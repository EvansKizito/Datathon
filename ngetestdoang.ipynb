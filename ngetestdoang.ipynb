{
 "nbformat": 4,
 "nbformat_minor": 0,
 "metadata": {
  "colab": {
   "provenance": []
  },
  "kernelspec": {
   "name": "python3",
   "display_name": "Python 3"
  },
  "language_info": {
   "name": "python"
  }
 },
 "cells": [
  {
   "cell_type": "code",
   "execution_count": null,
   "metadata": {},
   "outputs": [],
   "source": [
    "!pip install pandas seaborn scikit-learn matplotlib --quiet\n"
   ]
  },
  {
   "cell_type": "code",
   "execution_count": null,
   "metadata": {
    "id": "mCJJux0z0ooO"
   },
   "outputs": [],
   "source": [
    "import pandas as pd\n",
    "import numpy as np\n",
    "from sklearn.ensemble import IsolationForest\n",
    "import matplotlib.pyplot as plt\n",
    "from scipy.optimize import minimize\n",
    "\n",
    "# -----------------------------\n",
    "# 1. Load & Inspect Data\n",
    "# -----------------------------\n",
    "df = pd.read_csv('claims_company_style_with_reported_year.csv')\n",
    "print(df.head())"
   ]
  },
  {
   "cell_type": "code",
   "source": [
    "# -----------------------------\n",
    "# 2. Aggregate into Loss Triangles\n",
    "# -----------------------------\n",
    "# Cumulative Paid triangle (sum across all policies)\n",
    "tri_paid = df.pivot_table(\n",
    "    index='accident_year',\n",
    "    columns='development_year',\n",
    "    values='cumulative_paid',\n",
    "    aggfunc='sum'\n",
    ").sort_index(axis=1)\n",
    "\n",
    "# Cumulative Incurred triangle\n",
    "tri_incur = df.pivot_table(\n",
    "    index='accident_year',\n",
    "    columns='development_year',\n",
    "    values='cumulative_incurred',\n",
    "    aggfunc='sum'\n",
    ").sort_index(axis=1)\n",
    "\n",
    "years = tri_paid.index.values\n",
    "devs  = tri_paid.columns.values\n",
    "print(\"Paid triangle shape:\", tri_paid.shape)"
   ],
   "metadata": {
    "id": "s6dTZaQe0-Sp"
   },
   "execution_count": null,
   "outputs": []
  },
  {
   "cell_type": "code",
   "source": [
    "# -----------------------------\n",
    "# 3. Chain Ladder Implementation\n",
    "# -----------------------------\n",
    "def chain_ladder(triangle):\n",
    "    \"\"\"\n",
    "    Compute Chain-Ladder ultimate reserves by:\n",
    "    - Estimating development factors\n",
    "    - Projecting ultimate for each accident year\n",
    "    \"\"\"\n",
    "    n_ay, n_dy = triangle.shape\n",
    "    # estimate link ratios (f_k = sum(C_{i,k+1}) / sum(C_{i,k}))\n",
    "    factors = (\n",
    "        np.nansum(triangle[:,1:], axis=0) /\n",
    "        np.nansum(triangle[:,:-1], axis=0)\n",
    "    )\n",
    "    ultimates = np.zeros(n_ay)\n",
    "    for i in range(n_ay):\n",
    "        last_obs = np.where(~np.isnan(triangle[i]))[0][-1]\n",
    "        cum = triangle[i, last_obs]\n",
    "        # apply all future factors\n",
    "        if last_obs < len(factors):\n",
    "            ult = cum * np.prod(factors[last_obs:])\n",
    "        else:\n",
    "            ult = cum\n",
    "        ultimates[i] = ult\n",
    "    return ultimates, factors\n",
    "\n",
    "# run on paid\n",
    "triangle_paid = tri_paid.values\n",
    "ult_cl, f_cl = chain_ladder(triangle_paid)"
   ],
   "metadata": {
    "id": "i3fS_zBu08d_"
   },
   "execution_count": null,
   "outputs": []
  },
  {
   "cell_type": "code",
   "source": [
    "# -----------------------------\n",
    "# 4. Bornhuetter\u2013Ferguson Implementation\n",
    "# -----------------------------\n",
    "def bornhuetter_ferguson(triangle, expected_loss_ratio):\n",
    "    \"\"\"\n",
    "    BF: R_i = ER_i * Exposure_i + (1 - beta_i) * (C_{i,n})\n",
    "    where beta_i = sum of dev factors from k=0 to final,\n",
    "    and ER_i = expected ultimate (we use E[L] = ELR * exposure).\n",
    "    \"\"\"\n",
    "    # here we aggregate exposure per accident year\n",
    "    exp_by_ay = df.groupby('accident_year')['exposure_premium'].sum().reindex(years).values\n",
    "    # Development to tail factor\n",
    "    n_ay, n_dy = triangle.shape\n",
    "    ultimates = np.zeros(n_ay)\n",
    "    for i in range(n_ay):\n",
    "        last_obs = np.where(~np.isnan(triangle[i]))[0][-1]\n",
    "        cdf = np.prod(f_cl[last_obs:]) if last_obs < len(f_cl) else 1.0\n",
    "        beta = 1 - 1 / cdf\n",
    "        reported = triangle[i, last_obs]\n",
    "        ultimates[i] = reported + beta * expected_loss_ratio * exp_by_ay[i]\n",
    "    return ultimates\n"
   ],
   "metadata": {
    "id": "B0sdNL7F06lJ"
   },
   "execution_count": null,
   "outputs": []
  },
  {
   "cell_type": "code",
   "execution_count": null,
   "metadata": {},
   "outputs": [],
   "source": [
    "total_exposure = df['exposure_premium'].sum()\n",
    "avg_ult = triangle_paid[:, -1].sum() / total_exposure\n",
    "ult_bf = bornhuetter_ferguson(triangle_paid, avg_ult)\n"
   ]
  },
  {
   "cell_type": "code",
   "source": [
    "# -----------------------------\n",
    "# 5. Anomaly Detection (Isolation Forest)\n",
    "# -----------------------------\n",
    "X = df[['incremental_paid', 'incremental_incurred']].values\n",
    "iso = IsolationForest(contamination=0.02, random_state=42)\n",
    "df['anomaly'] = iso.fit_predict(X)   # -1 = anomaly, +1 = normal\n",
    "\n",
    "# rebuild paid triangle without anomalies\n",
    "clean = df[df['anomaly'] == 1]\n",
    "tri_paid_clean = clean.pivot_table(\n",
    "    index='accident_year', columns='development_year',\n",
    "    values='cumulative_paid', aggfunc='sum'\n",
    ").values\n",
    "\n",
    "ult_cl_clean, _ = chain_ladder(tri_paid_clean)\n",
    "ult_bf_clean = bornhuetter_ferguson(tri_paid_clean, avg_ult)"
   ],
   "metadata": {
    "id": "1JnQneci04Rv"
   },
   "execution_count": null,
   "outputs": []
  },
  {
   "cell_type": "code",
   "source": [
    "# -----------------------------\n",
    "# 6. Evaluation Metrics\n",
    "# -----------------------------\n",
    "actual = triangle_paid[:, -1]\n",
    "\n",
    "def mape(y_true, y_pred): return np.mean(np.abs((y_true - y_pred) / y_true)) * 100\n",
    "def rmse(y_true, y_pred): return np.sqrt(np.mean((y_true - y_pred)**2))\n",
    "def mare(y_true, y_pred): return np.mean(np.abs(y_true - y_pred))\n",
    "\n",
    "results = pd.DataFrame({\n",
    "    'Method': [\n",
    "        'CL (raw)', 'CL (clean)',\n",
    "        'BF (raw)', 'BF (clean)'\n",
    "    ],\n",
    "    'MAPE (%)': [\n",
    "        mape(actual, ult_cl),\n",
    "        mape(actual, ult_cl_clean),\n",
    "        mape(actual, ult_bf),\n",
    "        mape(actual, ult_bf_clean),\n",
    "    ],\n",
    "    'RMSE': [\n",
    "        rmse(actual, ult_cl),\n",
    "        rmse(actual, ult_cl_clean),\n",
    "        rmse(actual, ult_bf),\n",
    "        rmse(actual, ult_bf_clean),\n",
    "    ],\n",
    "    'MARE': [\n",
    "        mare(actual, ult_cl),\n",
    "        mare(actual, ult_cl_clean),\n",
    "        mare(actual, ult_bf),\n",
    "        mare(actual, ult_bf_clean),\n",
    "    ]\n",
    "})\n",
    "print(results)\n"
   ],
   "metadata": {
    "id": "E16PrY8o02ad"
   },
   "execution_count": null,
   "outputs": []
  },
  {
   "cell_type": "code",
   "source": [
    "# -----------------------------\n",
    "# 7. Visualizations\n",
    "# -----------------------------\n",
    "import seaborn as sns\n",
    "sns.heatmap(tri_paid, cmap='viridis', xticklabels=devs, yticklabels=years)\n",
    "plt.title('Aggregated Paid Triangle')\n",
    "plt.xlabel('Development Year')\n",
    "plt.ylabel('Accident Year')\n",
    "plt.show()\n",
    "\n",
    "sns.scatterplot(\n",
    "    x=years, y=ult_cl, label='CL Raw', marker='o'\n",
    ")\n",
    "sns.scatterplot(\n",
    "    x=years, y=ult_cl_clean, label='CL Clean', marker='x'\n",
    ")\n",
    "plt.title('Ultimate Estimates: Chain Ladder')\n",
    "plt.xlabel('Accident Year')\n",
    "plt.ylabel('Ultimate Reserve')\n",
    "plt.legend()\n",
    "plt.show()\n",
    "\n",
    "sns.scatterplot(x=years, y=ult_bf, label='BF Raw', marker='o')\n",
    "sns.scatterplot(x=years, y=ult_bf_clean, label='BF Clean', marker='x')\n",
    "plt.title('Ultimate Estimates: BF')\n",
    "plt.xlabel('Accident Year')\n",
    "plt.ylabel('Ultimate Reserve')\n",
    "plt.legend()\n",
    "plt.show()\n"
   ],
   "metadata": {
    "id": "CJNeiNS600SS"
   },
   "execution_count": null,
   "outputs": []
  }
 ]
}